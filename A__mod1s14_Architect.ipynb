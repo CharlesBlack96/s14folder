{
  "nbformat": 4,
  "nbformat_minor": 0,
  "metadata": {
    "accelerator": "GPU",
    "colab": {
      "provenance": [],
      "include_colab_link": true
    },
    "kernelspec": {
      "display_name": "Python 3",
      "language": "python",
      "name": "python3"
    },
    "language_info": {
      "codemirror_mode": {
        "name": "ipython",
        "version": 3
      },
      "file_extension": ".py",
      "mimetype": "text/x-python",
      "name": "python",
      "nbconvert_exporter": "python",
      "pygments_lexer": "ipython3",
      "version": "3.8.5"
    },
    "gpuClass": "standard"
  },
  "cells": [
    {
      "cell_type": "markdown",
      "metadata": {
        "id": "view-in-github",
        "colab_type": "text"
      },
      "source": [
        "<a href=\"https://colab.research.google.com/github/CharlesBlack96/s14folder/blob/main/A__mod1s14_Architect.ipynb\" target=\"_parent\"><img src=\"https://colab.research.google.com/assets/colab-badge.svg\" alt=\"Open In Colab\"/></a>"
      ]
    },
    {
      "cell_type": "markdown",
      "metadata": {
        "id": "ObyHCH8HvHSf"
      },
      "source": [
        "\n",
        "# *Data Science Unit 4 Sprint 2 Assignment 1*\n",
        "\n",
        "Use TensorFlow Keras and a sample of the [Quickdraw dataset](https://github.com/googlecreativelab/quickdraw-dataset) to build a sketch classification model. The dataset has been sampled to only 10 classes and 10000 observations per class. \n",
        "\n",
        "### Objective\n",
        "\n",
        "- Build a baseline classification model then, run a few experiments with different optimizers and learning rates. \n",
        "- Don't forget to [**switch to GPU if you're running your notebook on Colab!**](https://colab.research.google.com/notebooks/gpu.ipynb)"
      ]
    },
    {
      "cell_type": "markdown",
      "metadata": {
        "id": "s-Tc3ovEyQ9b"
      },
      "source": [
        "## Load Your Data"
      ]
    },
    {
      "cell_type": "code",
      "metadata": {
        "id": "CkU0pAYCvU8o"
      },
      "source": [
        "# imports in first cell \n",
        "import seaborn as sns\n",
        "import pandas as pd\n",
        "import numpy as np\n",
        "import tensorflow as tf \n",
        "import matplotlib.pyplot as plt\n",
        "from sklearn.utils import shuffle\n",
        "\n",
        "# use Sequential to build out your model\n",
        "from tensorflow.keras.models import Sequential\n",
        "\n",
        "# Dense layer is used for Fully Connected Forward Feeding networks\n",
        "from tensorflow.keras.layers import Dense"
      ],
      "execution_count": null,
      "outputs": []
    },
    {
      "cell_type": "markdown",
      "metadata": {
        "id": "UT2HFvSgDlFQ"
      },
      "source": [
        "Note that the 28x28 quickdraw images have already been \"flattened\" into 784: dimensional vectors"
      ]
    },
    {
      "cell_type": "code",
      "metadata": {
        "id": "S1XYJRQKLj1B",
        "colab": {
          "base_uri": "https://localhost:8080/"
        },
        "outputId": "a0f5a8c5-4760-4041-8858-77c139851f0d"
      },
      "source": [
        "# load the quickdraw data set\n",
        "!git clone https://github.com/LambdaSchool/DS-Unit-4-Sprint-2-Neural-Networks\n",
        "data = np.load('/content/DS-Unit-4-Sprint-2-Neural-Networks/quickdraw10.npz')\n",
        "\n",
        "X = data['arr_0']\n",
        "y = data['arr_1']\n",
        "\n",
        "print(X.shape)\n",
        "print(y.shape)"
      ],
      "execution_count": null,
      "outputs": [
        {
          "output_type": "stream",
          "name": "stdout",
          "text": [
            "Cloning into 'DS-Unit-4-Sprint-2-Neural-Networks'...\n",
            "remote: Enumerating objects: 513, done.\u001b[K\n",
            "remote: Counting objects: 100% (148/148), done.\u001b[K\n",
            "remote: Compressing objects: 100% (80/80), done.\u001b[K\n",
            "remote: Total 513 (delta 76), reused 124 (delta 66), pack-reused 365\u001b[K\n",
            "Receiving objects: 100% (513/513), 83.34 MiB | 25.69 MiB/s, done.\n",
            "Resolving deltas: 100% (259/259), done.\n",
            "(100000, 784)\n",
            "(100000,)\n"
          ]
        }
      ]
    },
    {
      "cell_type": "code",
      "source": [
        "#row vector\n",
        "X[0]"
      ],
      "metadata": {
        "colab": {
          "base_uri": "https://localhost:8080/"
        },
        "id": "wge3N_nt7snN",
        "outputId": "3e712d87-9cd5-4a91-b0c3-22462d7028c3"
      },
      "execution_count": null,
      "outputs": [
        {
          "output_type": "execute_result",
          "data": {
            "text/plain": [
              "array([  0,   0,   0,   0,   0,   0,   0,   0,   0,   0,   0,   0,   0,\n",
              "         0,   0,   0,   0,   0,   0,   0,   0,   0,   0,   0,   0,   0,\n",
              "         0,   0,   0,   0,   0,   0,   0,   0,   0,   0,   0,   0,   0,\n",
              "         0,   0,   0,  11,  21,  12,   0,   0,   0,   0,   0,   0,   0,\n",
              "         0,  92,  20,   0,   0,   0,   0,   0,   0,   0,   0,   0,   0,\n",
              "         0,   0,   0,  91, 213, 253, 255, 255, 222,  95,   3,   0,   0,\n",
              "         0,   0,   7, 255, 222,   0,   0,   0,   0,   0,   0,   0,   0,\n",
              "         0,   0,   0,  24, 190, 255, 196, 118, 100, 109, 196, 255, 121,\n",
              "         0,   0,   0,   0,   0, 141,  35,   0,   0,   0,   0,   0,   0,\n",
              "         0,   0,   0,   0,   1, 185, 241,  94,   1,   0,   0,   0,   0,\n",
              "        63,  25,   0,   0,   0,   0,   0,   0,   0,   0,   0,   0,   0,\n",
              "         0,   0,   0,   0,   0,   0,  89, 255, 115, 133, 150,  37,   0,\n",
              "         0,   0,   0,   0,   0,   0,   0,   0,   0,   0,   0,   0,   0,\n",
              "         0,   0,   0,   0,   0,   0,   0,   0, 207, 241, 252, 255, 250,\n",
              "       199,   0,   0,   0,   0,   0,   0,   0,   0,   0,   0,   0,   0,\n",
              "         0,   0,   0,   0,   0,   0,   0,   0,  30, 200, 255, 242, 149,\n",
              "       252, 232, 195,   3,   0,   0,   0,   0,   0,   0,   0,   0,   0,\n",
              "         0,   0,   0,   0,   0,   0,   0,   0,   0,  39, 225, 238, 255,\n",
              "        85,   0, 119, 255,  83,   0,   0,   0,   0,   0,   0,   0,   0,\n",
              "         0,   0,   0,   0,   0,   0,   0,   0,   0,   0,  43, 229, 231,\n",
              "       106, 255,  49,   0,   1, 201, 222,   7,   0,   0,   0,   0,   0,\n",
              "         0,   0,   0,   0,   0,   0,   0,   0,   0,   0,   0,  33, 237,\n",
              "       220,  33,  79, 255,  75,   0,   0,  61, 255,  94,   0,   0,   0,\n",
              "         0,   0,   0,   0,   0,   0,   0,   0,   0,   0,   0,   0,   4,\n",
              "       197, 235,  28,   0,   4, 210, 166,   0,   0,   1, 250, 127,   0,\n",
              "         0,   0,   0,   0,   0,   0,   0,   0,   0,   0,   0,   0,   0,\n",
              "         0, 128, 255,  85,   0,   0,   0,  17,  16,   0,   0,   0, 231,\n",
              "       146,   0,   0,   0,   0,   0,   0,   0,   0,   0,   0,   0,   0,\n",
              "         0,   0,  56, 251, 153,   0,   0,   0,   0,   0,   0,   0,   0,\n",
              "         0, 228, 148,   0,   0,   0,   0,   0,   0,   0,   0,   0,   0,\n",
              "         0,   0,   0,   0, 162, 229,  11,   0,   0,   0,   0,   0,   0,\n",
              "         0,   0,   0, 246, 131,   0,   0,   0,   0,   0,   0,   0,   0,\n",
              "         0,   0,   0,   0,   0,   0, 219, 165,   0,   0,   0,   0,   0,\n",
              "         0,   0,   0,   0,  13, 255, 111,   0,   0,   0,   0,   0,   0,\n",
              "         0,   0,   0,   0,   0,   0,   0,  21, 254, 109,   0,   0,   0,\n",
              "         0,   0,   0,   0,   0,   0,  78, 255,  58,   0,   0,   0,   0,\n",
              "         0,   0,   0,   0,   0,   0,   0,   0,   0,  78, 255,  51,   0,\n",
              "         0,   0,   0,   0,   0,   0,   0,   0, 152, 237,   3,   0,   0,\n",
              "         0,   0,   0,   0,   0,   0,   0,   0,   0,   0,   0, 120, 254,\n",
              "         5,   0,   0,   0,   0,   0,   0,   0,   0,   3, 228, 165,   0,\n",
              "         0,   0,   0,   0,   0,   0,   0,   0,   0,   0,   0,   0,   0,\n",
              "       123, 254,   0,   0,   0,   0,   0,   0,   0,   0,   0,  72, 255,\n",
              "        74,   0,   0,   0,   0,   0,   0,   0,   0,   0,   0,   0,   0,\n",
              "         0,   0, 114, 255,  13,   0,   0,   0,   0,   0,   0,   0,   0,\n",
              "       169, 229,   3,   0,   0,   0,   0,   0,   0,   0,   0,   0,   0,\n",
              "         0,   0,   0,   0,  60, 255,  70,   0,   0,   0,   0,   0,   0,\n",
              "         0,  53, 252, 129,   0,   0,   0,   0,   0,   0,   0,   0,   0,\n",
              "         0,   0,   0,   0,   0,   0,   7, 239, 174,   0,   0,   0,   0,\n",
              "         0,   0,   6, 208, 222,  11,   0,   0,   0,   0,   0,   0,   0,\n",
              "         0,   0,   0,   0,   0,   0,   0,   0,   0, 110, 255, 100,   0,\n",
              "         0,   0,   0,   3, 170, 253,  70,   0,   0,   0,   0,   0,   0,\n",
              "         0,   0,   0,   0,   0,   0,   0,   0,   0,   0,   0,   3, 180,\n",
              "       255, 178,  99,  68,  91, 200, 254, 104,   0,   0,   0,   0,   0,\n",
              "         0,   0,   0,   0,   0,   0,   0,   0,   0,   0,   0,   0,   0,\n",
              "         0,   2, 116, 222, 255, 255, 255, 213,  87,   0,   0,   0,   0,\n",
              "         0,   0,   0,   0,   0,   0,   0,   0,   0,   0,   0,   0,   0,\n",
              "         0,   0,   0,   0,   0,   0,  32,  51,  44,   1,   0,   0,   0,\n",
              "         0,   0,   0,   0,   0,   0,   0,   0,   0,   0,   0,   0,   0,\n",
              "         0,   0,   0,   0,   0,   0,   0,   0,   0,   0,   0,   0,   0,\n",
              "         0,   0,   0,   0,   0,   0,   0,   0,   0,   0,   0,   0,   0,\n",
              "         0,   0,   0,   0], dtype=uint8)"
            ]
          },
          "metadata": {},
          "execution_count": 4
        }
      ]
    },
    {
      "cell_type": "markdown",
      "metadata": {
        "id": "mvMjoB_yDZTL"
      },
      "source": [
        "These are the names of the 10 image classes"
      ]
    },
    {
      "cell_type": "code",
      "metadata": {
        "id": "c8qsDqdqvHDd"
      },
      "source": [
        "class_names = ['apple',\n",
        "             'anvil',\n",
        "             'airplane',\n",
        "             'banana',\n",
        "             'The Eiffel Tower',\n",
        "             'The Mona Lisa',\n",
        "             'The Great Wall of China',\n",
        "             'alarm clock',\n",
        "             'ant',\n",
        "             'asparagus']"
      ],
      "execution_count": null,
      "outputs": []
    },
    {
      "cell_type": "markdown",
      "metadata": {
        "id": "VxuY8RYXD9S4"
      },
      "source": [
        "We can explore the data a bit by reshaping the vectors back to images and displaying them with their labels. <br>\n",
        "Turns out the data has 10 blocks of 10,000 images of each of the above labels, in order. <br>\n",
        "So the code below displays the first image of each class."
      ]
    },
    {
      "cell_type": "code",
      "metadata": {
        "id": "Owbm1EbxvA5A",
        "colab": {
          "base_uri": "https://localhost:8080/",
          "height": 293
        },
        "outputId": "0e5a228e-07bf-4b81-817c-702ecd19ea21"
      },
      "source": [
        "# these are your 10 unique images\n",
        "plt.figure(figsize=(10,5))\n",
        "start = 0\n",
        "\n",
        "for num, name in enumerate(class_names):\n",
        "    plt.subplot(2,5, num+1)\n",
        "    plt.xticks([])\n",
        "    plt.yticks([])\n",
        "    plt.grid(False)\n",
        "    plt.imshow(X[start].reshape(28,28),cmap=plt.cm.binary)\n",
        "    plt.xlabel(name)\n",
        "    start += 10000\n",
        "plt.show()"
      ],
      "execution_count": null,
      "outputs": [
        {
          "output_type": "display_data",
          "data": {
            "text/plain": [
              "<Figure size 720x360 with 10 Axes>"
            ],
            "image/png": "[encoded data removed]"
          },
          "metadata": {}
        }
      ]
    },
    {
      "cell_type": "markdown",
      "metadata": {
        "id": "Av6i6t5QLj1D"
      },
      "source": [
        "Say hello to the Quickdraw dataset!\n",
        "\n",
        "You'll be using this dataset a lot this week as an alternative to the MNIST digits data set, which we'll use in the guided projects. The nice thing about this dataset is that it's simple, which allows us to focus on our model, its various components, and gradually come to a better understanding of how to build neural networks without worrying about cleaning and prepping our image data much."
      ]
    },
    {
      "cell_type": "code",
      "metadata": {
        "id": "c97_M1WNvTNY"
      },
      "source": [
        "# always a good idea to shuffle your dataset!\n",
        "X, y = shuffle(X, y)"
      ],
      "execution_count": null,
      "outputs": []
    },
    {
      "cell_type": "markdown",
      "metadata": {
        "id": "jb70CbLVyK65"
      },
      "source": [
        "-----\n",
        "\n",
        "## Build Your Baseline Model\n",
        "\n",
        "Make sure that you\n",
        "\n",
        "- **Determine** the dimensionality of your input data by investigating **X**\n",
        "- **Normalize** your input data to values between 0 and 1 \n",
        "- **Determine** the number of neurons in your output layer by investigating **Y**\n",
        "- **Select** `sparse_categorical_crossentropy` as your loss function.\n",
        "- **Select** `sgd` as your optimizer.\n",
        "- **Add** 3 hidden layers to your model with the following number of nodes\n",
        "    - h1 has 500 nodes\n",
        "    - h2 has 250 nodes\n",
        "    - h3 has 100 nodes\n",
        "    \n",
        "- **Set** epochs to 20 \n",
        "- **Use** the `validation_split` keyword in `model.fit()` to automatically create a training / validation dataset from within the model. Specify a percentage, such as `validation_split = 0.2`\n",
        " \n",
        "Not sure what the various parameters are for or what values to assign to them?\n",
        "\n",
        "- Reference the guided project notebook for Sprint 2 Module 1\n",
        "- Reference the [**Keras documentation**](https://keras.io/api/)\n",
        "- Google other examples\n",
        "- Discuss your results with classmates "
      ]
    },
    {
      "cell_type": "code",
      "metadata": {
        "deletable": false,
        "nbgrader": {
          "cell_type": "code",
          "checksum": "ef20dd34df6998e0a50e394d59d58659",
          "grade": false,
          "grade_id": "cell-907b9348d7a2ebb3",
          "locked": false,
          "schema_version": 3,
          "solution": true,
          "task": false
        },
        "id": "f133nwpOLj1G"
      },
      "source": [
        "# get dim of image row vectors and save to input_dim\n",
        "input_dim = X.shape[1]\n",
        "# get number of unique labels and save to n_output_labels\n",
        "n_output_nodes = len(np.unique(y))\n",
        "# normalize image data to values between 0 and 1 (by dividing by max pixel value)\n",
        "max_pixel_value = X.max()\n",
        "X_scaled = X/max_pixel_value\n",
        "\n",
        "\n",
        "\n",
        "\n",
        "\n",
        "\n"
      ],
      "execution_count": null,
      "outputs": []
    },
    {
      "cell_type": "code",
      "source": [
        "X_scaled[0]"
      ],
      "metadata": {
        "colab": {
          "base_uri": "https://localhost:8080/"
        },
        "id": "AR6DnHJk_Yo1",
        "outputId": "acaa62c6-e41b-48c8-a215-da1ff5276556"
      },
      "execution_count": null,
      "outputs": [
        {
          "output_type": "execute_result",
          "data": {
            "text/plain": [
              "array([0.        , 0.        , 0.        , 0.        , 0.        ,\n",
              "       0.        , 0.        , 0.        , 0.        , 0.        ,\n",
              "       0.        , 0.        , 0.        , 0.        , 0.        ,\n",
              "       0.        , 0.        , 0.        , 0.        , 0.        ,\n",
              "       0.        , 0.        , 0.        , 0.        , 0.        ,\n",
              "       0.        , 0.        , 0.        , 0.        , 0.        ,\n",
              "       0.        , 0.        , 0.        , 0.        , 0.        ,\n",
              "       0.        , 0.        , 0.        , 0.        , 0.        ,\n",
              "       0.        , 0.        , 0.        , 0.08235294, 0.35686275,\n",
              "       0.        , 0.        , 0.        , 0.        , 0.        ,\n",
              "       0.        , 0.        , 0.        , 0.        , 0.        ,\n",
              "       0.        , 0.        , 0.        , 0.        , 0.        ,\n",
              "       0.        , 0.        , 0.        , 0.        , 0.        ,\n",
              "       0.        , 0.        , 0.        , 0.        , 0.        ,\n",
              "       0.        , 0.53333333, 1.        , 0.0627451 , 0.        ,\n",
              "       0.        , 0.        , 0.        , 0.        , 0.        ,\n",
              "       0.        , 0.        , 0.        , 0.        , 0.        ,\n",
              "       0.        , 0.        , 0.        , 0.        , 0.        ,\n",
              "       0.        , 0.        , 0.        , 0.        , 0.        ,\n",
              "       0.        , 0.        , 0.        , 0.        , 0.82352941,\n",
              "       1.        , 0.16862745, 0.        , 0.        , 0.        ,\n",
              "       0.        , 0.        , 0.        , 0.        , 0.        ,\n",
              "       0.        , 0.        , 0.        , 0.        , 0.        ,\n",
              "       0.        , 0.        , 0.        , 0.        , 0.        ,\n",
              "       0.        , 0.        , 0.        , 0.        , 0.        ,\n",
              "       0.        , 0.10196078, 0.99607843, 1.        , 0.26666667,\n",
              "       0.        , 0.        , 0.        , 0.        , 0.        ,\n",
              "       0.        , 0.        , 0.        , 0.        , 0.        ,\n",
              "       0.        , 0.        , 0.        , 0.        , 0.        ,\n",
              "       0.        , 0.        , 0.        , 0.        , 0.        ,\n",
              "       0.        , 0.        , 0.        , 0.        , 0.39215686,\n",
              "       1.        , 1.        , 0.36862745, 0.        , 0.        ,\n",
              "       0.        , 0.        , 0.        , 0.        , 0.        ,\n",
              "       0.        , 0.        , 0.        , 0.        , 0.        ,\n",
              "       0.        , 0.        , 0.        , 0.        , 0.        ,\n",
              "       0.        , 0.        , 0.        , 0.        , 0.        ,\n",
              "       0.        , 0.        , 0.6745098 , 0.87058824, 0.99215686,\n",
              "       0.47058824, 0.        , 0.        , 0.        , 0.        ,\n",
              "       0.        , 0.        , 0.        , 0.        , 0.        ,\n",
              "       0.        , 0.        , 0.        , 0.        , 0.        ,\n",
              "       0.        , 0.        , 0.        , 0.        , 0.        ,\n",
              "       0.        , 0.        , 0.        , 0.        , 0.01960784,\n",
              "       0.94117647, 0.56862745, 0.91372549, 0.57254902, 0.        ,\n",
              "       0.        , 0.        , 0.        , 0.        , 0.        ,\n",
              "       0.        , 0.        , 0.        , 0.        , 0.        ,\n",
              "       0.        , 0.        , 0.        , 0.        , 0.        ,\n",
              "       0.        , 0.        , 0.        , 0.        , 0.        ,\n",
              "       0.        , 0.        , 0.24705882, 1.        , 0.28235294,\n",
              "       0.77254902, 0.71764706, 0.        , 0.        , 0.        ,\n",
              "       0.        , 0.        , 0.        , 0.        , 0.        ,\n",
              "       0.        , 0.        , 0.        , 0.        , 0.        ,\n",
              "       0.        , 0.        , 0.        , 0.        , 0.        ,\n",
              "       0.        , 0.        , 0.        , 0.        , 0.        ,\n",
              "       0.53333333, 0.96470588, 0.03921569, 0.60784314, 0.88235294,\n",
              "       0.        , 0.        , 0.        , 0.        , 0.        ,\n",
              "       0.        , 0.        , 0.        , 0.        , 0.        ,\n",
              "       0.        , 0.        , 0.        , 0.        , 0.        ,\n",
              "       0.        , 0.        , 0.        , 0.        , 0.        ,\n",
              "       0.        , 0.        , 0.        , 0.81960784, 0.70980392,\n",
              "       0.        , 0.44705882, 0.99607843, 0.05882353, 0.        ,\n",
              "       0.        , 0.        , 0.        , 0.        , 0.        ,\n",
              "       0.        , 0.        , 0.        , 0.        , 0.        ,\n",
              "       0.        , 0.        , 0.        , 0.        , 0.        ,\n",
              "       0.        , 0.        , 0.        , 0.        , 0.        ,\n",
              "       0.09803922, 0.99607843, 0.42352941, 0.        , 0.28235294,\n",
              "       1.        , 0.21568627, 0.        , 0.        , 0.        ,\n",
              "       0.        , 0.        , 0.        , 0.        , 0.        ,\n",
              "       0.        , 0.        , 0.        , 0.        , 0.        ,\n",
              "       0.        , 0.        , 0.        , 0.        , 0.        ,\n",
              "       0.        , 0.        , 0.        , 0.42352941, 1.        ,\n",
              "       0.14117647, 0.        , 0.11372549, 1.        , 0.38039216,\n",
              "       0.        , 0.        , 0.        , 0.        , 0.        ,\n",
              "       0.        , 0.        , 0.        , 0.        , 0.        ,\n",
              "       0.        , 0.        , 0.        , 0.        , 0.        ,\n",
              "       0.        , 0.        , 0.        , 0.        , 0.        ,\n",
              "       0.00392157, 0.84313725, 0.75294118, 0.        , 0.        ,\n",
              "       0.00392157, 0.94117647, 0.54117647, 0.        , 0.        ,\n",
              "       0.        , 0.        , 0.        , 0.        , 0.        ,\n",
              "       0.        , 0.        , 0.        , 0.        , 0.        ,\n",
              "       0.        , 0.        , 0.        , 0.        , 0.        ,\n",
              "       0.        , 0.        , 0.        , 0.30196078, 1.        ,\n",
              "       0.31372549, 0.        , 0.        , 0.        , 0.78431373,\n",
              "       0.70588235, 0.        , 0.        , 0.        , 0.        ,\n",
              "       0.        , 0.        , 0.        , 0.        , 0.        ,\n",
              "       0.        , 0.        , 0.        , 0.        , 0.        ,\n",
              "       0.        , 0.        , 0.        , 0.        , 0.        ,\n",
              "       0.        , 0.74509804, 0.8745098 , 0.01176471, 0.        ,\n",
              "       0.        , 0.        , 0.61960784, 0.8745098 , 0.        ,\n",
              "       0.        , 0.        , 0.        , 0.        , 0.        ,\n",
              "       0.        , 0.        , 0.        , 0.        , 0.        ,\n",
              "       0.        , 0.        , 0.        , 0.        , 0.        ,\n",
              "       0.        , 0.        , 0.        , 0.17254902, 1.        ,\n",
              "       0.9254902 , 0.2627451 , 0.        , 0.        , 0.        ,\n",
              "       0.45490196, 0.99607843, 0.04705882, 0.        , 0.        ,\n",
              "       0.        , 0.        , 0.        , 0.        , 0.        ,\n",
              "       0.        , 0.        , 0.        , 0.        , 0.        ,\n",
              "       0.        , 0.        , 0.        , 0.        , 0.        ,\n",
              "       0.        , 0.63921569, 0.95686275, 0.83137255, 0.99607843,\n",
              "       0.61568627, 0.06666667, 0.        , 0.29019608, 1.        ,\n",
              "       0.20784314, 0.        , 0.        , 0.        , 0.        ,\n",
              "       0.        , 0.        , 0.        , 0.        , 0.        ,\n",
              "       0.        , 0.        , 0.        , 0.        , 0.        ,\n",
              "       0.        , 0.        , 0.        , 0.27058824, 0.99607843,\n",
              "       0.48627451, 0.01960784, 0.49019608, 0.97254902, 0.98431373,\n",
              "       0.81176471, 0.81568627, 1.        , 0.90980392, 0.        ,\n",
              "       0.        , 0.        , 0.        , 0.        , 0.        ,\n",
              "       0.        , 0.        , 0.        , 0.        , 0.        ,\n",
              "       0.        , 0.        , 0.        , 0.        , 0.        ,\n",
              "       0.03921569, 0.86666667, 0.81960784, 0.01960784, 0.        ,\n",
              "       0.        , 0.14901961, 0.49019608, 0.68627451, 0.69019608,\n",
              "       0.9372549 , 0.78039216, 0.        , 0.        , 0.        ,\n",
              "       0.        , 0.        , 0.        , 0.        , 0.        ,\n",
              "       0.        , 0.        , 0.        , 0.        , 0.        ,\n",
              "       0.        , 0.        , 0.        , 0.57254902, 0.98431373,\n",
              "       0.20392157, 0.        , 0.        , 0.        , 0.        ,\n",
              "       0.        , 0.        , 0.        , 0.61960784, 0.89803922,\n",
              "       0.        , 0.        , 0.        , 0.        , 0.        ,\n",
              "       0.        , 0.        , 0.        , 0.        , 0.        ,\n",
              "       0.        , 0.        , 0.        , 0.        , 0.        ,\n",
              "       0.21960784, 0.98823529, 0.53333333, 0.        , 0.        ,\n",
              "       0.        , 0.        , 0.        , 0.        , 0.        ,\n",
              "       0.        , 0.38823529, 1.        , 0.12941176, 0.        ,\n",
              "       0.        , 0.        , 0.        , 0.        , 0.        ,\n",
              "       0.        , 0.        , 0.        , 0.        , 0.        ,\n",
              "       0.        , 0.        , 0.02745098, 0.83529412, 0.85098039,\n",
              "       0.03529412, 0.        , 0.        , 0.        , 0.        ,\n",
              "       0.        , 0.        , 0.        , 0.        , 0.15294118,\n",
              "       1.        , 0.36470588, 0.        , 0.        , 0.        ,\n",
              "       0.        , 0.        , 0.        , 0.        , 0.        ,\n",
              "       0.        , 0.        , 0.        , 0.        , 0.        ,\n",
              "       0.37647059, 0.99215686, 0.24313725, 0.        , 0.        ,\n",
              "       0.        , 0.        , 0.        , 0.        , 0.        ,\n",
              "       0.        , 0.        , 0.00392157, 0.91372549, 0.59607843,\n",
              "       0.        , 0.        , 0.        , 0.        , 0.        ,\n",
              "       0.        , 0.        , 0.        , 0.        , 0.        ,\n",
              "       0.        , 0.        , 0.        , 0.05882353, 0.23529412,\n",
              "       0.        , 0.        , 0.        , 0.        , 0.        ,\n",
              "       0.        , 0.        , 0.        , 0.        , 0.        ,\n",
              "       0.        , 0.68235294, 0.85490196, 0.00784314, 0.        ,\n",
              "       0.        , 0.        , 0.        , 0.        , 0.        ,\n",
              "       0.        , 0.        , 0.        , 0.        , 0.        ,\n",
              "       0.        , 0.        , 0.        , 0.        , 0.        ,\n",
              "       0.        , 0.        , 0.        , 0.        , 0.        ,\n",
              "       0.        , 0.        , 0.        , 0.        , 0.30588235,\n",
              "       1.        , 0.34901961, 0.        , 0.        , 0.        ,\n",
              "       0.        , 0.        , 0.        , 0.        , 0.        ,\n",
              "       0.        , 0.        , 0.        , 0.        , 0.        ,\n",
              "       0.        , 0.        , 0.        , 0.        , 0.        ,\n",
              "       0.        , 0.        , 0.        , 0.        , 0.        ,\n",
              "       0.        , 0.        , 0.        , 0.34901961, 0.10196078,\n",
              "       0.        , 0.        , 0.        , 0.        , 0.        ,\n",
              "       0.        , 0.        , 0.        , 0.        , 0.        ,\n",
              "       0.        , 0.        , 0.        , 0.        , 0.        ,\n",
              "       0.        , 0.        , 0.        , 0.        , 0.        ,\n",
              "       0.        , 0.        , 0.        , 0.        , 0.        ,\n",
              "       0.        , 0.        , 0.        , 0.        , 0.        ,\n",
              "       0.        , 0.        , 0.        , 0.        ])"
            ]
          },
          "metadata": {},
          "execution_count": 9
        }
      ]
    },
    {
      "cell_type": "code",
      "metadata": {
        "id": "vOufsWS3Lj1G"
      },
      "source": [
        "# a check on your data prep \n",
        "assert  X_scaled.max(), \"Max pixel value should be 1.0, make sure you normalize your data\""
      ],
      "execution_count": null,
      "outputs": []
    },
    {
      "cell_type": "code",
      "metadata": {
        "deletable": false,
        "id": "zHWblzsMyNkU",
        "nbgrader": {
          "cell_type": "code",
          "checksum": "f0ba174cb72f491f73c3aa7df8ae7ac4",
          "grade": false,
          "grade_id": "cell-b7c96fc46d86725f",
          "locked": false,
          "schema_version": 3,
          "solution": true,
          "task": false
        }
      },
      "source": [
        "# instantiate a sequential object and call it model, then add the layers to your model\n",
        "\n",
        "# add a compile layer but don't fit your model yet \n",
        "\n",
        "epochs = 20\n",
        "\n",
        "model = Sequential()\n",
        "\n",
        "model.add(\n",
        "    #Hidden Layer 1\n",
        "    Dense (500, activation=\"sigmoid\", input_dim=input_dim)\n",
        ")\n",
        "    \n",
        "model.add(\n",
        "    #Hidden Layer 2\n",
        "    Dense (250, activation=\"sigmoid\")\n",
        ")\n",
        "\n",
        "model.add(\n",
        "    #Hidden Layer 3\n",
        "    Dense (100, activation=\"sigmoid\")\n",
        ")\n",
        "\n",
        "model.add(\n",
        "    #output layer\n",
        "    Dense(n_output_nodes, activation='softmax')\n",
        ")\n",
        "    \n",
        "model.compile(optimizer='sgd',\n",
        "              loss='sparse_categorical_crossentropy',\n",
        "              metrics=['accuracy'])"
      ],
      "execution_count": null,
      "outputs": []
    },
    {
      "cell_type": "code",
      "source": [
        "model.summary()"
      ],
      "metadata": {
        "colab": {
          "base_uri": "https://localhost:8080/"
        },
        "id": "3qOL3-urCVU8",
        "outputId": "fd806e5e-c565-4030-a11a-c9972187eb50"
      },
      "execution_count": null,
      "outputs": [
        {
          "output_type": "stream",
          "name": "stdout",
          "text": [
            "Model: \"sequential_1\"\n",
            "_________________________________________________________________\n",
            " Layer (type)                Output Shape              Param #   \n",
            "=================================================================\n",
            " dense_4 (Dense)             (None, 500)               392500    \n",
            "                                                                 \n",
            " dense_5 (Dense)             (None, 250)               125250    \n",
            "                                                                 \n",
            " dense_6 (Dense)             (None, 100)               25100     \n",
            "                                                                 \n",
            " dense_7 (Dense)             (None, 10)                1010      \n",
            "                                                                 \n",
            "=================================================================\n",
            "Total params: 543,860\n",
            "Trainable params: 543,860\n",
            "Non-trainable params: 0\n",
            "_________________________________________________________________\n"
          ]
        }
      ]
    },
    {
      "cell_type": "code",
      "metadata": {
        "id": "ojLnGDklLj1H"
      },
      "source": [
        "# a check on your model architecture \n",
        "n_layers = len(model.get_config()[\"layers\"])\n",
        "assert n_layers == 5, \"You should have 5 layers: input, h1, h2, h3, and output\""
      ],
      "execution_count": null,
      "outputs": []
    },
    {
      "cell_type": "code",
      "metadata": {
        "id": "wMK2_DtJLj1I",
        "colab": {
          "base_uri": "https://localhost:8080/"
        },
        "outputId": "10febd78-6a48-4927-c25d-272beb098c45"
      },
      "source": [
        "# check out your model summary \n",
        "model.summary()"
      ],
      "execution_count": null,
      "outputs": [
        {
          "output_type": "stream",
          "name": "stdout",
          "text": [
            "Model: \"sequential_1\"\n",
            "_________________________________________________________________\n",
            " Layer (type)                Output Shape              Param #   \n",
            "=================================================================\n",
            " dense_4 (Dense)             (None, 500)               392500    \n",
            "                                                                 \n",
            " dense_5 (Dense)             (None, 250)               125250    \n",
            "                                                                 \n",
            " dense_6 (Dense)             (None, 100)               25100     \n",
            "                                                                 \n",
            " dense_7 (Dense)             (None, 10)                1010      \n",
            "                                                                 \n",
            "=================================================================\n",
            "Total params: 543,860\n",
            "Trainable params: 543,860\n",
            "Non-trainable params: 0\n",
            "_________________________________________________________________\n"
          ]
        }
      ]
    },
    {
      "cell_type": "code",
      "metadata": {
        "id": "DXTSbEiyLj1I",
        "colab": {
          "base_uri": "https://localhost:8080/"
        },
        "outputId": "95accc16-dbaf-4774-912b-e836baece280"
      },
      "source": [
        "# fit your model and save training results to history \n",
        "history = model.fit(X_scaled, y, \n",
        "                    epochs=epochs, \n",
        "                    # a held-out validation set will be generated within the model\n",
        "                    validation_split=0.2\n",
        "                   )"
      ],
      "execution_count": null,
      "outputs": [
        {
          "output_type": "stream",
          "name": "stdout",
          "text": [
            "Epoch 1/20\n",
            "2500/2500 [==============================] - 14s 4ms/step - loss: 2.2908 - accuracy: 0.1403 - val_loss: 2.2698 - val_accuracy: 0.3699\n",
            "Epoch 2/20\n",
            "2500/2500 [==============================] - 9s 4ms/step - loss: 2.2168 - accuracy: 0.2869 - val_loss: 2.1144 - val_accuracy: 0.4507\n",
            "Epoch 3/20\n",
            "2500/2500 [==============================] - 9s 4ms/step - loss: 1.8944 - accuracy: 0.4382 - val_loss: 1.6994 - val_accuracy: 0.4356\n",
            "Epoch 4/20\n",
            "2500/2500 [==============================] - 9s 3ms/step - loss: 1.5568 - accuracy: 0.5161 - val_loss: 1.4448 - val_accuracy: 0.5522\n",
            "Epoch 5/20\n",
            "2500/2500 [==============================] - 9s 4ms/step - loss: 1.3427 - accuracy: 0.5815 - val_loss: 1.2604 - val_accuracy: 0.6087\n",
            "Epoch 6/20\n",
            "2500/2500 [==============================] - 9s 4ms/step - loss: 1.1834 - accuracy: 0.6335 - val_loss: 1.1336 - val_accuracy: 0.6615\n",
            "Epoch 7/20\n",
            "2500/2500 [==============================] - 8s 3ms/step - loss: 1.0684 - accuracy: 0.6763 - val_loss: 1.0410 - val_accuracy: 0.6884\n",
            "Epoch 8/20\n",
            "2500/2500 [==============================] - 9s 3ms/step - loss: 0.9991 - accuracy: 0.6982 - val_loss: 0.9947 - val_accuracy: 0.7013\n",
            "Epoch 9/20\n",
            "2500/2500 [==============================] - 9s 4ms/step - loss: 0.9601 - accuracy: 0.7107 - val_loss: 0.9630 - val_accuracy: 0.7107\n",
            "Epoch 10/20\n",
            "2500/2500 [==============================] - 9s 3ms/step - loss: 0.9326 - accuracy: 0.7213 - val_loss: 0.9458 - val_accuracy: 0.7144\n",
            "Epoch 11/20\n",
            "2500/2500 [==============================] - 8s 3ms/step - loss: 0.9101 - accuracy: 0.7287 - val_loss: 0.9197 - val_accuracy: 0.7266\n",
            "Epoch 12/20\n",
            "2500/2500 [==============================] - 9s 4ms/step - loss: 0.8908 - accuracy: 0.7350 - val_loss: 0.9031 - val_accuracy: 0.7330\n",
            "Epoch 13/20\n",
            "2500/2500 [==============================] - 9s 4ms/step - loss: 0.8742 - accuracy: 0.7405 - val_loss: 0.8900 - val_accuracy: 0.7383\n",
            "Epoch 14/20\n",
            "2500/2500 [==============================] - 8s 3ms/step - loss: 0.8595 - accuracy: 0.7445 - val_loss: 0.8727 - val_accuracy: 0.7413\n",
            "Epoch 15/20\n",
            "2500/2500 [==============================] - 9s 4ms/step - loss: 0.8458 - accuracy: 0.7483 - val_loss: 0.8615 - val_accuracy: 0.7441\n",
            "Epoch 16/20\n",
            "2500/2500 [==============================] - 9s 4ms/step - loss: 0.8327 - accuracy: 0.7523 - val_loss: 0.8474 - val_accuracy: 0.7497\n",
            "Epoch 17/20\n",
            "2500/2500 [==============================] - 10s 4ms/step - loss: 0.8197 - accuracy: 0.7559 - val_loss: 0.8354 - val_accuracy: 0.7536\n",
            "Epoch 18/20\n",
            "2500/2500 [==============================] - 9s 3ms/step - loss: 0.8071 - accuracy: 0.7595 - val_loss: 0.8229 - val_accuracy: 0.7563\n",
            "Epoch 19/20\n",
            "2500/2500 [==============================] - 9s 4ms/step - loss: 0.7950 - accuracy: 0.7637 - val_loss: 0.8134 - val_accuracy: 0.7599\n",
            "Epoch 20/20\n",
            "2500/2500 [==============================] - 9s 4ms/step - loss: 0.7835 - accuracy: 0.7669 - val_loss: 0.8027 - val_accuracy: 0.7618\n"
          ]
        }
      ]
    },
    {
      "cell_type": "markdown",
      "metadata": {
        "id": "b0QJURWh-9uv"
      },
      "source": [
        "----\n",
        "### Visualize the Results\n",
        "\n",
        "- Move results in `history` to a dataframe. \n",
        "- Use [**Seaborn**](https://seaborn.pydata.org/generated/seaborn.lineplot.html) to create line plots for both loss and accuracy by epoch. \n",
        "- Analyze the results and write a couple of observations. \n",
        "\n",
        "At what point should we have stopped training the model and why? "
      ]
    },
    {
      "cell_type": "code",
      "metadata": {
        "deletable": false,
        "id": "ijAlzfYKAFaY",
        "nbgrader": {
          "cell_type": "code",
          "checksum": "6ef8cde40701c2ef57cf853b19455125",
          "grade": false,
          "grade_id": "cell-16e647cfc3291a01",
          "locked": false,
          "schema_version": 3,
          "solution": true,
          "task": false
        }
      },
      "source": [
        "#Move results in history in a dataframe and call that dataframe 'df'\n",
        "###BEGIN SOLUTON\n",
        "df = pd.DataFrame.from_records(history.history)\n",
        "n_rows = df.shape[0]\n",
        "#shift the index up by one for plotting epochs\n",
        "df.index = [i for i in range(1, n_rows+1)]\n",
        "###BEGIN SOLUTON"
      ],
      "execution_count": null,
      "outputs": []
    },
    {
      "cell_type": "code",
      "source": [
        "df.head()"
      ],
      "metadata": {
        "colab": {
          "base_uri": "https://localhost:8080/",
          "height": 206
        },
        "id": "bCt4skoPFAVz",
        "outputId": "99b9eeb3-4466-4ba9-993c-8853447696f0"
      },
      "execution_count": null,
      "outputs": [
        {
          "output_type": "execute_result",
          "data": {
            "text/plain": [
              "   accuracy      loss  val_accuracy  val_loss\n",
              "1  0.140337  2.290775       0.36995  2.269799\n",
              "2  0.286925  2.216846       0.45075  2.114438\n",
              "3  0.438188  1.894389       0.43565  1.699414\n",
              "4  0.516100  1.556774       0.55220  1.444789\n",
              "5  0.581513  1.342700       0.60875  1.260367"
            ],
            "text/html": [
              "\n",
              "  <div id=\"df-df2cc2a5-6b87-46d1-b0b0-95ede882a3bb\">\n",
              "    <div class=\"colab-df-container\">\n",
              "      <div>\n",
              "<style scoped>\n",
              "    .dataframe tbody tr th:only-of-type {\n",
              "        vertical-align: middle;\n",
              "    }\n",
              "\n",
              "    .dataframe tbody tr th {\n",
              "        vertical-align: top;\n",
              "    }\n",
              "\n",
              "    .dataframe thead th {\n",
              "        text-align: right;\n",
              "    }\n",
              "</style>\n",
              "<table border=\"1\" class=\"dataframe\">\n",
              "  <thead>\n",
              "    <tr style=\"text-align: right;\">\n",
              "      <th></th>\n",
              "      <th>accuracy</th>\n",
              "      <th>loss</th>\n",
              "      <th>val_accuracy</th>\n",
              "      <th>val_loss</th>\n",
              "    </tr>\n",
              "  </thead>\n",
              "  <tbody>\n",
              "    <tr>\n",
              "      <th>1</th>\n",
              "      <td>0.140337</td>\n",
              "      <td>2.290775</td>\n",
              "      <td>0.36995</td>\n",
              "      <td>2.269799</td>\n",
              "    </tr>\n",
              "    <tr>\n",
              "      <th>2</th>\n",
              "      <td>0.286925</td>\n",
              "      <td>2.216846</td>\n",
              "      <td>0.45075</td>\n",
              "      <td>2.114438</td>\n",
              "    </tr>\n",
              "    <tr>\n",
              "      <th>3</th>\n",
              "      <td>0.438188</td>\n",
              "      <td>1.894389</td>\n",
              "      <td>0.43565</td>\n",
              "      <td>1.699414</td>\n",
              "    </tr>\n",
              "    <tr>\n",
              "      <th>4</th>\n",
              "      <td>0.516100</td>\n",
              "      <td>1.556774</td>\n",
              "      <td>0.55220</td>\n",
              "      <td>1.444789</td>\n",
              "    </tr>\n",
              "    <tr>\n",
              "      <th>5</th>\n",
              "      <td>0.581513</td>\n",
              "      <td>1.342700</td>\n",
              "      <td>0.60875</td>\n",
              "      <td>1.260367</td>\n",
              "    </tr>\n",
              "  </tbody>\n",
              "</table>\n",
              "</div>\n",
              "      <button class=\"colab-df-convert\" onclick=\"convertToInteractive('df-df2cc2a5-6b87-46d1-b0b0-95ede882a3bb')\"\n",
              "              title=\"Convert this dataframe to an interactive table.\"\n",
              "              style=\"display:none;\">\n",
              "        \n",
              "  <svg xmlns=\"http://www.w3.org/2000/svg\" height=\"24px\"viewBox=\"0 0 24 24\"\n",
              "       width=\"24px\">\n",
              "    <path d=\"M0 0h24v24H0V0z\" fill=\"none\"/>\n",
              "    <path d=\"M18.56 5.44l.94 2.06.94-2.06 2.06-.94-2.06-.94-.94-2.06-.94 2.06-2.06.94zm-11 1L8.5 8.5l.94-2.06 2.06-.94-2.06-.94L8.5 2.5l-.94 2.06-2.06.94zm10 10l.94 2.06.94-2.06 2.06-.94-2.06-.94-.94-2.06-.94 2.06-2.06.94z\"/><path d=\"M17.41 7.96l-1.37-1.37c-.4-.4-.92-.59-1.43-.59-.52 0-1.04.2-1.43.59L10.3 9.45l-7.72 7.72c-.78.78-.78 2.05 0 2.83L4 21.41c.39.39.9.59 1.41.59.51 0 1.02-.2 1.41-.59l7.78-7.78 2.81-2.81c.8-.78.8-2.07 0-2.86zM5.41 20L4 18.59l7.72-7.72 1.47 1.35L5.41 20z\"/>\n",
              "  </svg>\n",
              "      </button>\n",
              "      \n",
              "  <style>\n",
              "    .colab-df-container {\n",
              "      display:flex;\n",
              "      flex-wrap:wrap;\n",
              "      gap: 12px;\n",
              "    }\n",
              "\n",
              "    .colab-df-convert {\n",
              "      background-color: #E8F0FE;\n",
              "      border: none;\n",
              "      border-radius: 50%;\n",
              "      cursor: pointer;\n",
              "      display: none;\n",
              "      fill: #1967D2;\n",
              "      height: 32px;\n",
              "      padding: 0 0 0 0;\n",
              "      width: 32px;\n",
              "    }\n",
              "\n",
              "    .colab-df-convert:hover {\n",
              "      background-color: #E2EBFA;\n",
              "      box-shadow: 0px 1px 2px rgba(60, 64, 67, 0.3), 0px 1px 3px 1px rgba(60, 64, 67, 0.15);\n",
              "      fill: #174EA6;\n",
              "    }\n",
              "\n",
              "    [theme=dark] .colab-df-convert {\n",
              "      background-color: #3B4455;\n",
              "      fill: #D2E3FC;\n",
              "    }\n",
              "\n",
              "    [theme=dark] .colab-df-convert:hover {\n",
              "      background-color: #434B5C;\n",
              "      box-shadow: 0px 1px 3px 1px rgba(0, 0, 0, 0.15);\n",
              "      filter: drop-shadow(0px 1px 2px rgba(0, 0, 0, 0.3));\n",
              "      fill: #FFFFFF;\n",
              "    }\n",
              "  </style>\n",
              "\n",
              "      <script>\n",
              "        const buttonEl =\n",
              "          document.querySelector('#df-df2cc2a5-6b87-46d1-b0b0-95ede882a3bb button.colab-df-convert');\n",
              "        buttonEl.style.display =\n",
              "          google.colab.kernel.accessAllowed ? 'block' : 'none';\n",
              "\n",
              "        async function convertToInteractive(key) {\n",
              "          const element = document.querySelector('#df-df2cc2a5-6b87-46d1-b0b0-95ede882a3bb');\n",
              "          const dataTable =\n",
              "            await google.colab.kernel.invokeFunction('convertToInteractive',\n",
              "                                                     [key], {});\n",
              "          if (!dataTable) return;\n",
              "\n",
              "          const docLinkHtml = 'Like what you see? Visit the ' +\n",
              "            '<a target=\"_blank\" href=https://colab.research.google.com/notebooks/data_table.ipynb>data table notebook</a>'\n",
              "            + ' to learn more about interactive tables.';\n",
              "          element.innerHTML = '';\n",
              "          dataTable['output_type'] = 'display_data';\n",
              "          await google.colab.output.renderOutput(dataTable, element);\n",
              "          const docLink = document.createElement('div');\n",
              "          docLink.innerHTML = docLinkHtml;\n",
              "          element.appendChild(docLink);\n",
              "        }\n",
              "      </script>\n",
              "    </div>\n",
              "  </div>\n",
              "  "
            ]
          },
          "metadata": {},
          "execution_count": 27
        }
      ]
    },
    {
      "cell_type": "code",
      "metadata": {
        "id": "jFTzaMcALj1J"
      },
      "source": [
        "# a check on our model training\n",
        "assert df.shape[0] == 20, \"df should have the training results from 20 epochs\""
      ],
      "execution_count": null,
      "outputs": []
    },
    {
      "cell_type": "code",
      "metadata": {
        "deletable": false,
        "nbgrader": {
          "cell_type": "code",
          "checksum": "424d241660318a72ecda935be10485d7",
          "grade": false,
          "grade_id": "cell-96dba18873c4cffc",
          "locked": false,
          "schema_version": 3,
          "solution": true,
          "task": false
        },
        "id": "i6NnocuJLj1J",
        "colab": {
          "base_uri": "https://localhost:8080/",
          "height": 404
        },
        "outputId": "5264a908-67a2-4705-a386-5c381f6bd148"
      },
      "source": [
        "# use seaborn to plot loss and accuracy metrics\n",
        "\n",
        "# use the plotting method in your dataframe to plot the modeling results\n",
        "###BEGIN SOLUTION\n",
        "plot_cols = [\"loss\", \"val_loss\"]\n",
        "df[plot_cols].plot(figsize=(20,6), grid=True);\n",
        "plt.title(\"Model Loss vs Epoch\");\n",
        "plt.xlabel(\"Epochs\");\n",
        "plt.ylabel(\"Validation Loss\");\n",
        "plt.xticks(df.index);\n",
        "###END SOLUTION"
      ],
      "execution_count": null,
      "outputs": [
        {
          "output_type": "display_data",
          "data": {
            "text/plain": [
              "<Figure size 1440x432 with 1 Axes>"
            ],
            "image/png": "[encoded data removed]"
          },
          "metadata": {
            "needs_background": "light"
          }
        }
      ]
    },
    {
      "cell_type": "markdown",
      "metadata": {
        "id": "GmjyuTlrLj1K"
      },
      "source": [
        "### Observations \n",
        "\n",
        "Based on the plot of the training and validation loss, answer the following questions. "
      ]
    },
    {
      "cell_type": "markdown",
      "metadata": {
        "id": "NF_mrNmPLj1K"
      },
      "source": [
        "**Was our model able to learn throughout the 20 epochs? Why or why not?**"
      ]
    },
    {
      "cell_type": "markdown",
      "metadata": {
        "deletable": false,
        "nbgrader": {
          "cell_type": "markdown",
          "checksum": "b7713eb32ad3a910a58dfdb9494a9db3",
          "grade": true,
          "grade_id": "cell-820990a8232a858a",
          "locked": false,
          "points": 0,
          "schema_version": 3,
          "solution": true,
          "task": false
        },
        "id": "yL42yLWELj1K"
      },
      "source": [
        "Yes, our model was able to learn over the course of 20 epochs. This is evidenced by the drop in the loss from about 2.3 during the first epoch down to about\n",
        "0.8 in the last epoch."
      ]
    },
    {
      "cell_type": "markdown",
      "metadata": {
        "id": "_xKObFanLj1K"
      },
      "source": [
        "**Is our model overfitting? Why or why not?**"
      ]
    },
    {
      "cell_type": "markdown",
      "metadata": {
        "deletable": false,
        "nbgrader": {
          "cell_type": "markdown",
          "checksum": "1d30c64465cd35081d70578c20ecf96d",
          "grade": true,
          "grade_id": "cell-33868e7ef6e401b5",
          "locked": false,
          "points": 0,
          "schema_version": 3,
          "solution": true,
          "task": false
        },
        "id": "rx7xa4Z1Lj1L"
      },
      "source": [
        "No, our model is not overfitting. This is evidenced by the fact that there is a very narrow gap between the training and validation curves. If the model was\n",
        "overfitting, we'd expect to see a big different in the training and validation scores, in plot this would should up as a large gap between the training and\n",
        "validation curves (the curves could be loss curves or accuracy curves)."
      ]
    },
    {
      "cell_type": "markdown",
      "metadata": {
        "id": "FIvb1mftLj1L"
      },
      "source": [
        "**Could the model score benefit from additional epochs? Why or why not?**"
      ]
    },
    {
      "cell_type": "markdown",
      "metadata": {
        "deletable": false,
        "nbgrader": {
          "cell_type": "markdown",
          "checksum": "0fc2208e2c78461578fc7a05224066b8",
          "grade": true,
          "grade_id": "cell-5c883f0a3161e469",
          "locked": false,
          "points": 0,
          "schema_version": 3,
          "solution": true,
          "task": false
        },
        "id": "Ww1hBmfMLj1L"
      },
      "source": [
        "Not really. Look at the derivative of the curve (i.e. the rate of change) near the end of the training. We see that the curve is almost flat. Which means that\n",
        "introducing more epochs would NOT drop the loss by any significant amount. If we want to further decrease the loss of our model, we're going to have to explore\n",
        "other options such as using a different activation function or optimizer."
      ]
    },
    {
      "cell_type": "markdown",
      "metadata": {
        "id": "MAhBrcE4yOZe"
      },
      "source": [
        "-----\n",
        "## Change Optimizers\n",
        "\n",
        "Let's compare model performance between different optimizers. \n",
        "- Build a new model, identical to the last one but using `adam` for the optimizer. \n",
        "- Train (fit) the model\n",
        "- Save the modeling results to adam_history, so we don't erase the results from the previous model run\n",
        "- Visualize the training results just as we did for the last model. \n"
      ]
    },
    {
      "cell_type": "code",
      "metadata": {
        "deletable": false,
        "id": "jIW_spOZ0cxy",
        "nbgrader": {
          "cell_type": "code",
          "checksum": "6d30d8c6f4521861a77c9ef04dbde904",
          "grade": false,
          "grade_id": "cell-56663c8a5e75b71f",
          "locked": false,
          "schema_version": 3,
          "solution": true,
          "task": false
        },
        "colab": {
          "base_uri": "https://localhost:8080/"
        },
        "outputId": "eaffbdc8-2494-40ae-979e-f1d717bc98ce"
      },
      "source": [
        "# train the same model as above but use the sgd optimizer if you used adam previously (or use adam if you used sgd previously)\n",
        "\n",
        "epochs = 20\n",
        "\n",
        "model = Sequential()\n",
        "\n",
        "model.add(\n",
        "    #Hidden Layer 1\n",
        "    Dense (500, activation=\"sigmoid\", input_dim=input_dim)\n",
        ")\n",
        "    \n",
        "model.add(\n",
        "    #Hidden Layer 2\n",
        "    Dense (250, activation=\"sigmoid\")\n",
        ")\n",
        "\n",
        "model.add(\n",
        "    #Hidden Layer 3\n",
        "    Dense (100, activation=\"sigmoid\")\n",
        ")\n",
        "\n",
        "model.add(\n",
        "    #output layer\n",
        "    Dense(n_output_nodes, activation='softmax')\n",
        ")\n",
        "    \n",
        "model.compile(optimizer='adam',\n",
        "              loss='sparse_categorical_crossentropy',\n",
        "              metrics=['accuracy'])\n",
        "adam_history = model.fit(X_scaled, y,\n",
        "                         epochs=epochs,\n",
        "                         validation_split = 0.2\n",
        "                         )"
      ],
      "execution_count": null,
      "outputs": [
        {
          "output_type": "stream",
          "name": "stdout",
          "text": [
            "Epoch 1/20\n",
            "2500/2500 [==============================] - 12s 4ms/step - loss: 0.7436 - accuracy: 0.7716 - val_loss: 0.5669 - val_accuracy: 0.8263\n",
            "Epoch 2/20\n",
            "2500/2500 [==============================] - 9s 4ms/step - loss: 0.4936 - accuracy: 0.8506 - val_loss: 0.4990 - val_accuracy: 0.8469\n",
            "Epoch 3/20\n",
            "2500/2500 [==============================] - 10s 4ms/step - loss: 0.4112 - accuracy: 0.8750 - val_loss: 0.4603 - val_accuracy: 0.8580\n",
            "Epoch 4/20\n",
            "2500/2500 [==============================] - 11s 4ms/step - loss: 0.3535 - accuracy: 0.8927 - val_loss: 0.4386 - val_accuracy: 0.8692\n",
            "Epoch 5/20\n",
            "2500/2500 [==============================] - 11s 5ms/step - loss: 0.3081 - accuracy: 0.9074 - val_loss: 0.4220 - val_accuracy: 0.8749\n",
            "Epoch 6/20\n",
            "2500/2500 [==============================] - 10s 4ms/step - loss: 0.2707 - accuracy: 0.9180 - val_loss: 0.4052 - val_accuracy: 0.8795\n",
            "Epoch 7/20\n",
            "2500/2500 [==============================] - 9s 4ms/step - loss: 0.2366 - accuracy: 0.9285 - val_loss: 0.4159 - val_accuracy: 0.8822\n",
            "Epoch 8/20\n",
            "2500/2500 [==============================] - 10s 4ms/step - loss: 0.2072 - accuracy: 0.9380 - val_loss: 0.4376 - val_accuracy: 0.8821\n",
            "Epoch 9/20\n",
            "2500/2500 [==============================] - 10s 4ms/step - loss: 0.1781 - accuracy: 0.9467 - val_loss: 0.4500 - val_accuracy: 0.8813\n",
            "Epoch 10/20\n",
            "2500/2500 [==============================] - 10s 4ms/step - loss: 0.1566 - accuracy: 0.9529 - val_loss: 0.4700 - val_accuracy: 0.8797\n",
            "Epoch 11/20\n",
            "2500/2500 [==============================] - 9s 4ms/step - loss: 0.1365 - accuracy: 0.9588 - val_loss: 0.4943 - val_accuracy: 0.8795\n",
            "Epoch 12/20\n",
            "2500/2500 [==============================] - 9s 4ms/step - loss: 0.1210 - accuracy: 0.9636 - val_loss: 0.5245 - val_accuracy: 0.8778\n",
            "Epoch 13/20\n",
            "2500/2500 [==============================] - 10s 4ms/step - loss: 0.1079 - accuracy: 0.9673 - val_loss: 0.5747 - val_accuracy: 0.8728\n",
            "Epoch 14/20\n",
            "2500/2500 [==============================] - 10s 4ms/step - loss: 0.0945 - accuracy: 0.9712 - val_loss: 0.5747 - val_accuracy: 0.8817\n",
            "Epoch 15/20\n",
            "2500/2500 [==============================] - 10s 4ms/step - loss: 0.0849 - accuracy: 0.9745 - val_loss: 0.6109 - val_accuracy: 0.8755\n",
            "Epoch 16/20\n",
            "2500/2500 [==============================] - 9s 4ms/step - loss: 0.0762 - accuracy: 0.9767 - val_loss: 0.6477 - val_accuracy: 0.8784\n",
            "Epoch 17/20\n",
            "2500/2500 [==============================] - 10s 4ms/step - loss: 0.0670 - accuracy: 0.9794 - val_loss: 0.6557 - val_accuracy: 0.8769\n",
            "Epoch 18/20\n",
            "2500/2500 [==============================] - 10s 4ms/step - loss: 0.0641 - accuracy: 0.9801 - val_loss: 0.6790 - val_accuracy: 0.8764\n",
            "Epoch 19/20\n",
            "2500/2500 [==============================] - 10s 4ms/step - loss: 0.0543 - accuracy: 0.9828 - val_loss: 0.7435 - val_accuracy: 0.8673\n",
            "Epoch 20/20\n",
            "2500/2500 [==============================] - 10s 4ms/step - loss: 0.0527 - accuracy: 0.9832 - val_loss: 0.7125 - val_accuracy: 0.8747\n"
          ]
        }
      ]
    },
    {
      "cell_type": "code",
      "metadata": {
        "id": "u9DQypQOLj1L"
      },
      "source": [
        "# a check that we're using the correct optimizer in this model\n",
        "opt_name = model.optimizer.get_config()[\"name\"]\n",
        "assert opt_name == \"Adam\", \"you need to use adam for the optimizer in this model.\""
      ],
      "execution_count": null,
      "outputs": []
    },
    {
      "cell_type": "code",
      "metadata": {
        "deletable": false,
        "nbgrader": {
          "cell_type": "code",
          "checksum": "1a4c01aa7dbcc832d75b05bffaeaacc8",
          "grade": false,
          "grade_id": "cell-20118d1646215346",
          "locked": false,
          "schema_version": 3,
          "solution": true,
          "task": false
        },
        "id": "wBVj55zVLj1L",
        "colab": {
          "base_uri": "https://localhost:8080/",
          "height": 390
        },
        "outputId": "ba368221-6238-407a-ee94-6ef1b6d09b2f"
      },
      "source": [
        "###BEGIN SOLUTION\n",
        "# move results to df\n",
        "df_adam = pd.DataFrame.from_records(adam_history.history)\n",
        "n_rows = df_adam.shape[0]\n",
        "df_adam.index = [i for i in range(1, n_rows+1)]\n",
        "#plot results\n",
        "plot_cols = [\"loss\", \"val_loss\"]\n",
        "df_adam [plot_cols].plot(figsize=(20,6), grid=True);\n",
        "plt.title(\"Model Loss vs Epoch\");\n",
        "plt.xticks(df_adam.index);\n",
        "###END SOLUTION"
      ],
      "execution_count": null,
      "outputs": [
        {
          "output_type": "display_data",
          "data": {
            "text/plain": [
              "<Figure size 1440x432 with 1 Axes>"
            ],
            "image/png": "[encoded data removed]"
          },
          "metadata": {
            "needs_background": "light"
          }
        }
      ]
    },
    {
      "cell_type": "markdown",
      "metadata": {
        "id": "XECc5OtzLj1M"
      },
      "source": [
        "### Observations \n",
        "\n",
        "This plot should look very different from the previous plot. Based on the plot of the training and validation loss, answer the following questions. "
      ]
    },
    {
      "cell_type": "markdown",
      "metadata": {
        "id": "tK8B5CszLj1M"
      },
      "source": [
        "**Is our model overfitting? Why or why not?**"
      ]
    },
    {
      "cell_type": "markdown",
      "metadata": {
        "deletable": false,
        "nbgrader": {
          "cell_type": "markdown",
          "checksum": "fa4141497af675d227aa510feb8db732",
          "grade": true,
          "grade_id": "cell-7e524ccac970c33e",
          "locked": false,
          "points": 0,
          "schema_version": 3,
          "solution": true,
          "task": false
        },
        "id": "Fn6C8NWTLj1M"
      },
      "source": [
        "Yes, this model is definately overfitting. We can see that by the huge gap between the trianing and validation loss curves. As the number of epochs increases,\n",
        "beyond 3, the gap steadily increases."
      ]
    },
    {
      "cell_type": "markdown",
      "metadata": {
        "id": "ygXQYH8ILj1M"
      },
      "source": [
        "**Could our model's performance improve by training on more than 20 epochs? Why or why not?**"
      ]
    },
    {
      "cell_type": "markdown",
      "metadata": {
        "deletable": false,
        "nbgrader": {
          "cell_type": "markdown",
          "checksum": "ae03b8b897eb5d052590574ab3bba839",
          "grade": true,
          "grade_id": "cell-456c40e885652955",
          "locked": false,
          "points": 0,
          "schema_version": 3,
          "solution": true,
          "task": false
        },
        "id": "Sa5SRkB1Lj1M"
      },
      "source": [
        "No, by increasing the number of epochs beyond 20 we can actually epect for the loss to increase and the overfitting to increase as well."
      ]
    },
    {
      "cell_type": "markdown",
      "metadata": {
        "id": "bNxtLggeLj1M"
      },
      "source": [
        "**Assuming that you want to stick to this model architecture, what can you do to avoid overfitting?**"
      ]
    },
    {
      "cell_type": "markdown",
      "metadata": {
        "deletable": false,
        "nbgrader": {
          "cell_type": "markdown",
          "checksum": "9f5a9393314231d3ce253363c1df1223",
          "grade": true,
          "grade_id": "cell-74d7def19c66702b",
          "locked": false,
          "points": 0,
          "schema_version": 3,
          "solution": true,
          "task": false
        },
        "id": "tfztMm3rLj1M"
      },
      "source": [
        "Assuming that I want to stick to this model architecture, I would cut off the trianing at about 3 epoch were the valiation loss is actually lower than the lowest\n",
        "loss in our previous model and where the model has essentially no overfitting as indicated by the overlap in the training and loss curves."
      ]
    },
    {
      "cell_type": "markdown",
      "metadata": {
        "id": "ViaTP68cLj1M"
      },
      "source": [
        "------\n",
        "# Conclusion \n",
        "\n",
        "You have observed by comparing the two models that are identical except for the optimizer, that the choice of the optimizer can considerably influence the performance of a neural network. \n",
        "\n",
        "You might not know \n",
        "\n",
        "- why changing the optimizer from Stochastic Gradient Descent over to Adam made a difference.\n",
        "- how Gradient Descent works \n",
        "- or that Adam is known as Adaptive Gradient Descent (i.e., is it a different version of ordinary Gradient Descent). \n",
        "\n",
        "But that's ok - tomorrow's lesson will be a deep dive into Gradient Descent. You'll learn the theory of Gradient Descent, we'll code up Gradient Descent from scratch, and we'll talk about how Adam is different from ordinary Gradient Descent. "
      ]
    },
    {
      "cell_type": "markdown",
      "metadata": {
        "id": "8v_TuVH5Lj1N"
      },
      "source": [
        "-----\n",
        "# Preparation for Tomorrow \n",
        "\n",
        "In preparation for tomorrow, you might need to watch a few videos. I say it might because you may or may not already be comfortable with multi-variate calculus. \n",
        "\n",
        "### Theory of Calculus \n",
        "The theory of Gradient Descent rests on [**the derivative from Calculus**](https://www.youtube.com/watch?v=WUvTyaaNkzM). If you've never taken a Calculus course before, or are a bit rusty, definitely watch this video in preparation for tomorrow's lesson. The takeaway here is to understand the derivative conceptually; you won't be asked to calculate any derivatives by hand. \n",
        "\n",
        "### The Gradient - a Multi-Dimensional Derivative\n",
        "Once you've watched the previous video, you will be ready to understand how to conceptualize a derivative in an N-dimensional space (where N is any number ranging from 2, 3, 4, ..., all the way to a very large number of dimensions N ). [**This video visually explains the multi-dimensional derivative called the Gradient visually**](https://www.youtube.com/watch?v=GkB4vW16QHI) - and that's the takeaway. The point of this video is to help you understand the Gradient visually using 3D surfaces. You should also know that the Gradient is made up of partial derivatives, more on this tomorrow. \n",
        "\n",
        "### Contour Maps \n",
        "It is very common to visual 3D surfaces as 2D contour maps - and we'll be making a lot of use of contour maps to understand Gradient Descent. Watch this video to [**understand the relationship between 3D surfaces and 2D contour maps.**](https://www.youtube.com/watch?v=acdX4YamDtU)\n",
        "\n",
        "### The Calculus of Backpropagation \n",
        "\n",
        "Unlike standard Sklearn ML models, neural networks use Gradient Descent and something called Backpropagatin to learn from the data. [**In order to understand how backpropagation works, you need to understand the Chain Rule in Calculus**](https://www.youtube.com/watch?v=acdX4YamDtU). The takeaway here is to understand how a partial derivative can be decomposed into a product of multiple derivatives. "
      ]
    },
    {
      "cell_type": "markdown",
      "metadata": {
        "id": "XCjBp0vTLj1N"
      },
      "source": [
        "------\n",
        "# Stretch Goals\n",
        "\n",
        "### This Section is Optional!\n",
        "\n",
        "Only after you've completed the above work and watched the recommended videos are you then encouraged to experiment with building a few more models and analyze their results. \n",
        "\n",
        "Here are some suggestions to help you get started. \n",
        "\n",
        "- Train the same model using the Sigmoid and Relu activation functions and note the difference in their learning outcomes. [**Keras docs on activation functions**](https://keras.io/api/layers/activations/). We'll cover the Relu activation function in Sprint 2 Module 3.\n",
        "- Train the same model using normalized and non-normalized data and note the difference in their learning outcomes. \n",
        "\n",
        "\n",
        "The objective here is to get more practice with the Keras API (i.e., building models) and run a couple of experiments to help set you up for future lessons. In order words, we'll be discussing different activation functions and the effect of normalized data on model training."
      ]
    },
    {
      "cell_type": "code",
      "metadata": {
        "id": "5F1VQLmALj1N"
      },
      "source": [],
      "execution_count": null,
      "outputs": []
    }
  ]
}